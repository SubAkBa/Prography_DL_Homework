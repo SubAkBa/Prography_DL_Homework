{
 "cells": [
  {
   "cell_type": "code",
   "execution_count": 1,
   "metadata": {},
   "outputs": [
    {
     "data": {
      "text/plain": [
       "{}"
      ]
     },
     "execution_count": 1,
     "metadata": {},
     "output_type": "execute_result"
    }
   ],
   "source": [
    "# Dictionary\n",
    "# List와 비슷하지만 항목의 순서를 따지지 않으며, 0 또는 1과 같은 Offset으로 항목을 선택할 수 없다.\n",
    "# 대신 고유한 키를 지정한다.\n",
    "# 1. 딕셔너리 생성하기 : {}\n",
    "empty_dict = {}\n",
    "empty_dict"
   ]
  },
  {
   "cell_type": "code",
   "execution_count": 2,
   "metadata": {},
   "outputs": [
    {
     "data": {
      "text/plain": [
       "{'day': 'A period of twenty-four hours, mostly misspent',\n",
       " 'positive': \"Mistaken at the top of one's voice\",\n",
       " 'misfortune': 'The kind of fortune that never misses'}"
      ]
     },
     "execution_count": 2,
     "metadata": {},
     "output_type": "execute_result"
    }
   ],
   "source": [
    "bierce = {\n",
    "    \"day\" : \"A period of twenty-four hours, mostly misspent\",\n",
    "    \"positive\" : \"Mistaken at the top of one's voice\",\n",
    "    \"misfortune\" : \"The kind of fortune that never misses\",\n",
    "}\n",
    "bierce"
   ]
  },
  {
   "cell_type": "code",
   "execution_count": 3,
   "metadata": {},
   "outputs": [
    {
     "data": {
      "text/plain": [
       "{'a': 'b', 'c': 'd', 'e': 'f'}"
      ]
     },
     "execution_count": 3,
     "metadata": {},
     "output_type": "execute_result"
    }
   ],
   "source": [
    "# 2. 딕셔너리로 변환하기 : dict()\n",
    "lol = [['a', 'b'], ['c', 'd'], ['e', 'f']]\n",
    "dict(lol)"
   ]
  },
  {
   "cell_type": "code",
   "execution_count": 4,
   "metadata": {},
   "outputs": [
    {
     "data": {
      "text/plain": [
       "{'a': 'b', 'c': 'd', 'e': 'f'}"
      ]
     },
     "execution_count": 4,
     "metadata": {},
     "output_type": "execute_result"
    }
   ],
   "source": [
    "# 두 항목 투플\n",
    "lot = [('a', 'b'), ('c', 'd'), ('e', 'f')]\n",
    "dict(lot)"
   ]
  },
  {
   "cell_type": "code",
   "execution_count": 5,
   "metadata": {},
   "outputs": [
    {
     "data": {
      "text/plain": [
       "{'a': 'b', 'c': 'd', 'e': 'f'}"
      ]
     },
     "execution_count": 5,
     "metadata": {},
     "output_type": "execute_result"
    }
   ],
   "source": [
    "# 두 항목 리스트\n",
    "tol = (['a', 'b'], ['c', 'd'], ['e', 'f'])\n",
    "dict(tol)"
   ]
  },
  {
   "cell_type": "code",
   "execution_count": 6,
   "metadata": {},
   "outputs": [
    {
     "data": {
      "text/plain": [
       "{'a': 'b', 'c': 'd', 'e': 'f'}"
      ]
     },
     "execution_count": 6,
     "metadata": {},
     "output_type": "execute_result"
    }
   ],
   "source": [
    "# 두 문자 문자열로 된 리스트\n",
    "los = ['ab', 'cd', 'ef']\n",
    "dict(los)"
   ]
  },
  {
   "cell_type": "code",
   "execution_count": 7,
   "metadata": {},
   "outputs": [
    {
     "data": {
      "text/plain": [
       "{'e': 'f', 'a': 'b', 'c': 'd'}"
      ]
     },
     "execution_count": 7,
     "metadata": {},
     "output_type": "execute_result"
    }
   ],
   "source": [
    "# 두 문자 문자열로 된 투플\n",
    "tos = {'ab', 'cd', 'ef'}\n",
    "dict(tos)"
   ]
  },
  {
   "cell_type": "code",
   "execution_count": 8,
   "metadata": {},
   "outputs": [
    {
     "data": {
      "text/plain": [
       "{'Chapman': 'Graham',\n",
       " 'Cleese': 'John',\n",
       " 'Idle': 'Eric',\n",
       " 'Jones': 'Terry',\n",
       " 'Palin': 'Michael'}"
      ]
     },
     "execution_count": 8,
     "metadata": {},
     "output_type": "execute_result"
    }
   ],
   "source": [
    "# 3. 항목 추가 / 변경하기 : [key]\n",
    "pythons = {\n",
    "    'Chapman' : 'Graham',\n",
    "    'Cleese' : 'John',\n",
    "    'Idle' : 'Eric',\n",
    "    'Jones' : 'Terry',\n",
    "    'Palin' : 'Michael',\n",
    "}\n",
    "pythons"
   ]
  },
  {
   "cell_type": "code",
   "execution_count": 9,
   "metadata": {},
   "outputs": [
    {
     "data": {
      "text/plain": [
       "{'Chapman': 'Graham',\n",
       " 'Cleese': 'John',\n",
       " 'Idle': 'Eric',\n",
       " 'Jones': 'Terry',\n",
       " 'Palin': 'Michael',\n",
       " 'Gilliam': 'Gerry'}"
      ]
     },
     "execution_count": 9,
     "metadata": {},
     "output_type": "execute_result"
    }
   ],
   "source": [
    "pythons['Gilliam'] = 'Gerry'\n",
    "pythons"
   ]
  },
  {
   "cell_type": "code",
   "execution_count": 11,
   "metadata": {},
   "outputs": [
    {
     "data": {
      "text/plain": [
       "{'Chapman': 'Graham',\n",
       " 'Cleese': 'John',\n",
       " 'Idle': 'Eric',\n",
       " 'Jones': 'Terry',\n",
       " 'Palin': 'Michael',\n",
       " 'Gilliam': 'Terry'}"
      ]
     },
     "execution_count": 11,
     "metadata": {},
     "output_type": "execute_result"
    }
   ],
   "source": [
    "pythons['Gilliam'] = 'Terry'\n",
    "pythons"
   ]
  },
  {
   "cell_type": "code",
   "execution_count": 12,
   "metadata": {},
   "outputs": [
    {
     "data": {
      "text/plain": [
       "{'Graham': 'Chapman',\n",
       " 'John': 'Cleese',\n",
       " 'Eric': 'Idle',\n",
       " 'Terry': 'Jones',\n",
       " 'Michael': 'Palin'}"
      ]
     },
     "execution_count": 12,
     "metadata": {},
     "output_type": "execute_result"
    }
   ],
   "source": [
    "# 딕셔너리 키는 반드시 유일해야한다.\n",
    "# 같은 키를 두 번 이상 사용하면 마지막 값이 저장\n",
    "some_pythons = {\n",
    "    'Graham' : 'Chapman',\n",
    "    'John' : 'Cleese',\n",
    "    'Eric' : 'Idle',\n",
    "    'Terry' : 'Gilliam',\n",
    "    'Michael' : 'Palin',\n",
    "    'Terry' : 'Jones',\n",
    "}\n",
    "some_pythons"
   ]
  },
  {
   "cell_type": "code",
   "execution_count": 14,
   "metadata": {},
   "outputs": [
    {
     "data": {
      "text/plain": [
       "{'Chapman': 'Graham',\n",
       " 'Cleese': 'John',\n",
       " 'Gilliam': 'Terry',\n",
       " 'Idle': 'Eric',\n",
       " 'Jones': 'Terry',\n",
       " 'Palin': 'Michael'}"
      ]
     },
     "execution_count": 14,
     "metadata": {},
     "output_type": "execute_result"
    }
   ],
   "source": [
    "# 4. 딕셔너리 결합하기 : update()\n",
    "pythons = {\n",
    "    'Chapman' : 'Graham',\n",
    "    'Cleese' : 'John',\n",
    "    'Gilliam' : 'Terry',\n",
    "    'Idle' : 'Eric',\n",
    "    'Jones' : 'Terry',\n",
    "    'Palin' : 'Michael',\n",
    "}\n",
    "pythons"
   ]
  },
  {
   "cell_type": "code",
   "execution_count": 15,
   "metadata": {},
   "outputs": [
    {
     "data": {
      "text/plain": [
       "{'Chapman': 'Graham',\n",
       " 'Cleese': 'John',\n",
       " 'Gilliam': 'Terry',\n",
       " 'Idle': 'Eric',\n",
       " 'Jones': 'Terry',\n",
       " 'Palin': 'Michael',\n",
       " 'Marx': 'Groucho',\n",
       " 'Howard': 'Moe'}"
      ]
     },
     "execution_count": 15,
     "metadata": {},
     "output_type": "execute_result"
    }
   ],
   "source": [
    "others = {'Marx' : 'Groucho', 'Howard' : 'Moe'}\n",
    "pythons.update(others)\n",
    "pythons"
   ]
  },
  {
   "cell_type": "code",
   "execution_count": 16,
   "metadata": {},
   "outputs": [
    {
     "data": {
      "text/plain": [
       "{'a': 1, 'b': 'platypus'}"
      ]
     },
     "execution_count": 16,
     "metadata": {},
     "output_type": "execute_result"
    }
   ],
   "source": [
    "first = {'a' : 1, 'b' : 2}\n",
    "second = {'b' : 'platypus'}\n",
    "first.update(second)\n",
    "first"
   ]
  },
  {
   "cell_type": "code",
   "execution_count": 17,
   "metadata": {},
   "outputs": [
    {
     "data": {
      "text/plain": [
       "{'Chapman': 'Graham',\n",
       " 'Cleese': 'John',\n",
       " 'Gilliam': 'Terry',\n",
       " 'Idle': 'Eric',\n",
       " 'Jones': 'Terry',\n",
       " 'Palin': 'Michael',\n",
       " 'Howard': 'Moe'}"
      ]
     },
     "execution_count": 17,
     "metadata": {},
     "output_type": "execute_result"
    }
   ],
   "source": [
    "# 5. 키와 del로 항목 삭제하기\n",
    "del pythons['Marx']\n",
    "pythons"
   ]
  },
  {
   "cell_type": "code",
   "execution_count": 18,
   "metadata": {},
   "outputs": [
    {
     "data": {
      "text/plain": [
       "{'Chapman': 'Graham',\n",
       " 'Cleese': 'John',\n",
       " 'Gilliam': 'Terry',\n",
       " 'Idle': 'Eric',\n",
       " 'Jones': 'Terry',\n",
       " 'Palin': 'Michael'}"
      ]
     },
     "execution_count": 18,
     "metadata": {},
     "output_type": "execute_result"
    }
   ],
   "source": [
    "del pythons['Howard']\n",
    "pythons"
   ]
  },
  {
   "cell_type": "code",
   "execution_count": 19,
   "metadata": {},
   "outputs": [
    {
     "data": {
      "text/plain": [
       "{}"
      ]
     },
     "execution_count": 19,
     "metadata": {},
     "output_type": "execute_result"
    }
   ],
   "source": [
    "# 6. 모든 항목 삭제하기 : clear()\n",
    "pythons.clear()\n",
    "pythons"
   ]
  },
  {
   "cell_type": "code",
   "execution_count": 21,
   "metadata": {},
   "outputs": [
    {
     "data": {
      "text/plain": [
       "True"
      ]
     },
     "execution_count": 21,
     "metadata": {},
     "output_type": "execute_result"
    }
   ],
   "source": [
    "# 7. in으로 키 멤버십 테스트하기\n",
    "# 딕셔너리에 키가 존재하는지 체크\n",
    "pythons = {\n",
    "    'Chapman' : 'Graham',\n",
    "    'Cleese' : 'John',\n",
    "    'Johns' : 'Terry',\n",
    "    'Palin' : 'Michael'\n",
    "}\n",
    "'Chapman' in pythons"
   ]
  },
  {
   "cell_type": "code",
   "execution_count": 22,
   "metadata": {},
   "outputs": [
    {
     "data": {
      "text/plain": [
       "True"
      ]
     },
     "execution_count": 22,
     "metadata": {},
     "output_type": "execute_result"
    }
   ],
   "source": [
    "'Palin' in pythons"
   ]
  },
  {
   "cell_type": "code",
   "execution_count": 23,
   "metadata": {},
   "outputs": [
    {
     "data": {
      "text/plain": [
       "False"
      ]
     },
     "execution_count": 23,
     "metadata": {},
     "output_type": "execute_result"
    }
   ],
   "source": [
    "'Gilliam' in pythons"
   ]
  },
  {
   "cell_type": "code",
   "execution_count": 24,
   "metadata": {},
   "outputs": [
    {
     "data": {
      "text/plain": [
       "'John'"
      ]
     },
     "execution_count": 24,
     "metadata": {},
     "output_type": "execute_result"
    }
   ],
   "source": [
    "# 8. 항목 얻기 : [key]\n",
    "pythons['Cleese']"
   ]
  },
  {
   "cell_type": "code",
   "execution_count": 25,
   "metadata": {},
   "outputs": [
    {
     "ename": "KeyError",
     "evalue": "'Marx'",
     "output_type": "error",
     "traceback": [
      "\u001b[0;31m---------------------------------------------------------------------------\u001b[0m",
      "\u001b[0;31mKeyError\u001b[0m                                  Traceback (most recent call last)",
      "\u001b[0;32m<ipython-input-25-8ba1c8293867>\u001b[0m in \u001b[0;36m<module>\u001b[0;34m\u001b[0m\n\u001b[0;32m----> 1\u001b[0;31m \u001b[0mpythons\u001b[0m\u001b[0;34m[\u001b[0m\u001b[0;34m'Marx'\u001b[0m\u001b[0;34m]\u001b[0m\u001b[0;34m\u001b[0m\u001b[0;34m\u001b[0m\u001b[0m\n\u001b[0m",
      "\u001b[0;31mKeyError\u001b[0m: 'Marx'"
     ]
    }
   ],
   "source": [
    "pythons['Marx']"
   ]
  },
  {
   "cell_type": "code",
   "execution_count": 26,
   "metadata": {},
   "outputs": [
    {
     "data": {
      "text/plain": [
       "'John'"
      ]
     },
     "execution_count": 26,
     "metadata": {},
     "output_type": "execute_result"
    }
   ],
   "source": [
    "# 키가 존재하지 않는 예외를 피하는 방법\n",
    "# (1) in\n",
    "# (2) get()\n",
    "pythons.get(\"Cleese\")"
   ]
  },
  {
   "cell_type": "code",
   "execution_count": 27,
   "metadata": {},
   "outputs": [
    {
     "data": {
      "text/plain": [
       "'Not a Python'"
      ]
     },
     "execution_count": 27,
     "metadata": {},
     "output_type": "execute_result"
    }
   ],
   "source": [
    "# 만약 키가 존재하지 않으면 옵션 값을 지정해서 출력할 수 있다.\n",
    "pythons.get('Marx', 'Not a Python')"
   ]
  },
  {
   "cell_type": "code",
   "execution_count": 28,
   "metadata": {},
   "outputs": [],
   "source": [
    "# 옵션값을 지정하지 않으면 None을 얻는다. 대화식 인터프리터에 아무것도 표시되지 않는다.\n",
    "pythons.get('Marx')"
   ]
  },
  {
   "cell_type": "code",
   "execution_count": 31,
   "metadata": {},
   "outputs": [
    {
     "data": {
      "text/plain": [
       "dict_keys(['green', 'yellow', 'red'])"
      ]
     },
     "execution_count": 31,
     "metadata": {},
     "output_type": "execute_result"
    }
   ],
   "source": [
    "# 9. 모든 키 얻기 : keys()\n",
    "signals = {'green' : 'go', 'yellow' : 'go faster', 'red' : \"smile for the camera\"}\n",
    "signals.keys()"
   ]
  },
  {
   "cell_type": "code",
   "execution_count": 32,
   "metadata": {},
   "outputs": [
    {
     "data": {
      "text/plain": [
       "['go', 'go faster', 'smile for the camera']"
      ]
     },
     "execution_count": 32,
     "metadata": {},
     "output_type": "execute_result"
    }
   ],
   "source": [
    "# 10. 모든 값 얻기 : values()\n",
    "list(signals.values())"
   ]
  },
  {
   "cell_type": "code",
   "execution_count": 33,
   "metadata": {},
   "outputs": [
    {
     "data": {
      "text/plain": [
       "[('green', 'go'), ('yellow', 'go faster'), ('red', 'smile for the camera')]"
      ]
     },
     "execution_count": 33,
     "metadata": {},
     "output_type": "execute_result"
    }
   ],
   "source": [
    "# 11. 모든 쌍의 키-값 얻기 : items()\n",
    "list(signals.items())"
   ]
  },
  {
   "cell_type": "code",
   "execution_count": 34,
   "metadata": {},
   "outputs": [
    {
     "data": {
      "text/plain": [
       "{'green': 'go',\n",
       " 'yellow': 'go faster',\n",
       " 'red': 'smile for the camera',\n",
       " 'blue': 'confuse everyone'}"
      ]
     },
     "execution_count": 34,
     "metadata": {},
     "output_type": "execute_result"
    }
   ],
   "source": [
    "# 12. 할당 : =, 복사 : copy()\n",
    "# 할당을 하게 되면 딕셔너리를 참조하는 모든 이름에 변경된 딕셔너리를 반영한다.\n",
    "signals = {'green' : 'go', 'yellow' : 'go faster', 'red' : 'smile for the camera'}\n",
    "save_signals = signals\n",
    "signals['blue'] = 'confuse everyone'\n",
    "save_signals"
   ]
  },
  {
   "cell_type": "code",
   "execution_count": 37,
   "metadata": {},
   "outputs": [
    {
     "data": {
      "text/plain": [
       "{'green': 'go',\n",
       " 'yellow': 'go faster',\n",
       " 'red': 'smile for the camera',\n",
       " 'blue': 'confuse everyone'}"
      ]
     },
     "execution_count": 37,
     "metadata": {},
     "output_type": "execute_result"
    }
   ],
   "source": [
    "# 따라서 딕셔너리의 키와 값을 또 다른 딕셔너리로 복사하기 위해서는 copy()\n",
    "signals = {\n",
    "    'green' : 'go', \n",
    "    'yellow' : 'go faster', \n",
    "    'red' : 'smile for the camera'\n",
    "}\n",
    "original_signals = signals.copy()\n",
    "signals['blue'] = 'confuse everyone'\n",
    "signals"
   ]
  },
  {
   "cell_type": "code",
   "execution_count": 39,
   "metadata": {},
   "outputs": [
    {
     "data": {
      "text/plain": [
       "{'green': 'go', 'yellow': 'go faster', 'red': 'smile for the camera'}"
      ]
     },
     "execution_count": 39,
     "metadata": {},
     "output_type": "execute_result"
    }
   ],
   "source": [
    "original_signals"
   ]
  }
 ],
 "metadata": {
  "kernelspec": {
   "display_name": "PyTorch",
   "language": "python",
   "name": "pytorch"
  },
  "language_info": {
   "codemirror_mode": {
    "name": "ipython",
    "version": 3
   },
   "file_extension": ".py",
   "mimetype": "text/x-python",
   "name": "python",
   "nbconvert_exporter": "python",
   "pygments_lexer": "ipython3",
   "version": "3.7.2"
  }
 },
 "nbformat": 4,
 "nbformat_minor": 2
}
