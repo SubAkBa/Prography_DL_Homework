{
 "cells": [
  {
   "cell_type": "code",
   "execution_count": 1,
   "metadata": {},
   "outputs": [
    {
     "data": {
      "text/plain": [
       "181"
      ]
     },
     "execution_count": 1,
     "metadata": {},
     "output_type": "execute_result"
    }
   ],
   "source": [
    "# 1. 텍스트 파일 쓰기 : write()\n",
    "# write() 함수는 파일에 쓴 바이트수를 반환한다.\n",
    "# 또한, print() 함수처럼 스페이스나 줄바꿈을 추가하지 않는다.\n",
    "poem = '''There was a young lady named Bright,\n",
    "        Whose speed was far faster than light;\n",
    "        She started one day\n",
    "        In a relative way\n",
    "        And returned on the previous night.'''\n",
    "len(poem)"
   ]
  },
  {
   "cell_type": "code",
   "execution_count": 2,
   "metadata": {},
   "outputs": [],
   "source": [
    "fout = open(\"relativity\", \"wt\")\n",
    "fout.write(poem)\n",
    "fout.close()"
   ]
  },
  {
   "cell_type": "code",
   "execution_count": 3,
   "metadata": {},
   "outputs": [],
   "source": [
    "# print()함수를 이용한 텍스트 파일 만들기\n",
    "fout = open(\"relativity1\", \"wt\")\n",
    "print(poem, file = fout)\n",
    "fout.close()"
   ]
  },
  {
   "cell_type": "code",
   "execution_count": 6,
   "metadata": {},
   "outputs": [],
   "source": [
    "# 파일에 쓸 문자열이 크면 특정 단위(chunk)로 나누어서 파일에 쓴다.\n",
    "fout = open(\"relativity\", \"wt\")\n",
    "size = len(poem)\n",
    "offset = 0\n",
    "chunk = 100\n",
    "while True:\n",
    "    if offset > size:\n",
    "        break\n",
    "    fout.write(poem[offset : offset + chunk])\n",
    "    offset += chunk"
   ]
  },
  {
   "cell_type": "code",
   "execution_count": 7,
   "metadata": {},
   "outputs": [],
   "source": [
    "fout.close()"
   ]
  },
  {
   "cell_type": "code",
   "execution_count": 8,
   "metadata": {},
   "outputs": [
    {
     "ename": "FileExistsError",
     "evalue": "[Errno 17] File exists: 'relativity'",
     "output_type": "error",
     "traceback": [
      "\u001b[0;31m---------------------------------------------------------------------------\u001b[0m",
      "\u001b[0;31mFileExistsError\u001b[0m                           Traceback (most recent call last)",
      "\u001b[0;32m<ipython-input-8-f3ecb8c86118>\u001b[0m in \u001b[0;36m<module>\u001b[0;34m\u001b[0m\n\u001b[1;32m      1\u001b[0m \u001b[0;31m# 만약 relativity 파일이 중요하다면, 모드 x를 사용하여 파일을 덮어쓰지 않도록 한다.\u001b[0m\u001b[0;34m\u001b[0m\u001b[0;34m\u001b[0m\u001b[0;34m\u001b[0m\u001b[0m\n\u001b[0;32m----> 2\u001b[0;31m \u001b[0mfout\u001b[0m \u001b[0;34m=\u001b[0m \u001b[0mopen\u001b[0m\u001b[0;34m(\u001b[0m\u001b[0;34m\"relativity\"\u001b[0m\u001b[0;34m,\u001b[0m \u001b[0;34m\"xt\"\u001b[0m\u001b[0;34m)\u001b[0m\u001b[0;34m\u001b[0m\u001b[0;34m\u001b[0m\u001b[0m\n\u001b[0m",
      "\u001b[0;31mFileExistsError\u001b[0m: [Errno 17] File exists: 'relativity'"
     ]
    }
   ],
   "source": [
    "# 만약 relativity 파일이 중요하다면, 모드 x를 사용하여 파일을 덮어쓰지 않도록 한다.\n",
    "fout = open(\"relativity\", \"xt\")"
   ]
  },
  {
   "cell_type": "code",
   "execution_count": 9,
   "metadata": {},
   "outputs": [
    {
     "name": "stdout",
     "output_type": "stream",
     "text": [
      "relativity already exists!. That was a close one.\n"
     ]
    }
   ],
   "source": [
    "# 이를 다음과 같이 예외로 처리할 수 있다.\n",
    "try:\n",
    "    fout = open(\"relativity\", \"xt\")\n",
    "    fout.write(\"stomp stomp stomp\")\n",
    "except FileExistsError:\n",
    "    print(\"relativity already exists!. That was a close one.\")"
   ]
  },
  {
   "cell_type": "code",
   "execution_count": 10,
   "metadata": {},
   "outputs": [
    {
     "data": {
      "text/plain": [
       "181"
      ]
     },
     "execution_count": 10,
     "metadata": {},
     "output_type": "execute_result"
    }
   ],
   "source": [
    "# 2. 텍스트 파일 읽기 : read(), readline(), readlines()\n",
    "fin = open(\"relativity\", \"rt\")\n",
    "poem = fin.read()\n",
    "fin.close()\n",
    "len(poem)"
   ]
  },
  {
   "cell_type": "code",
   "execution_count": 11,
   "metadata": {},
   "outputs": [
    {
     "data": {
      "text/plain": [
       "181"
      ]
     },
     "execution_count": 11,
     "metadata": {},
     "output_type": "execute_result"
    }
   ],
   "source": [
    "# 한 번에 얼마만큼 읽을 것인지 크기를 제한할 수 있다.\n",
    "# 파일을 다 읽고 끝에 도달하면, read() 함수는 빈 문자열('')을 반환한다.\n",
    "poem = ''\n",
    "fin = open(\"relativity\", \"rt\")\n",
    "chunk = 100\n",
    "while True:\n",
    "    fragment = fin.read(chunk)\n",
    "    if not fragment:\n",
    "        break\n",
    "    poem += fragment\n",
    "fin.close()\n",
    "len(poem)"
   ]
  },
  {
   "cell_type": "code",
   "execution_count": 12,
   "metadata": {},
   "outputs": [
    {
     "data": {
      "text/plain": [
       "181"
      ]
     },
     "execution_count": 12,
     "metadata": {},
     "output_type": "execute_result"
    }
   ],
   "source": [
    "# readline() 함수를 사용하면 파일을 라인 단위로 읽을 수 있다.\n",
    "# 다음 예제는 파일의 각 라인을 poem 문자열에 추가하여 원본 파일의 문자열을 모두 저장한다.\n",
    "poem = ''\n",
    "fin = open(\"relativity\", \"rt\")\n",
    "while True:\n",
    "    line = fin.readline()\n",
    "    if not line:\n",
    "        break\n",
    "    poem += line\n",
    "fin.close()\n",
    "len(poem)\n",
    "\n",
    "# 텍스트 파일의 빈 라인의 길이는 1이고(\"\\n\"), 이것을 True로 인식한다.\n",
    "# 파일 읽기의 끝에 도달했을때 readline()함수 또한 False로 간주하는 빈 문자열을 반환한다."
   ]
  },
  {
   "cell_type": "code",
   "execution_count": 13,
   "metadata": {},
   "outputs": [
    {
     "data": {
      "text/plain": [
       "181"
      ]
     },
     "execution_count": 13,
     "metadata": {},
     "output_type": "execute_result"
    }
   ],
   "source": [
    "# 텍스트 파일을 가장 읽기 쉬운 방법은 이터레이터(iterator)이다.\n",
    "# 이터레이터는 한 번에 한 라인씩 반환한다.\n",
    "poem = ''\n",
    "fin = open(\"relativity\", 'rt')\n",
    "for line in fin:\n",
    "    poem += line\n",
    "fin.close()\n",
    "len(poem)"
   ]
  },
  {
   "cell_type": "code",
   "execution_count": 15,
   "metadata": {},
   "outputs": [
    {
     "name": "stdout",
     "output_type": "stream",
     "text": [
      "5 lines read\n"
     ]
    }
   ],
   "source": [
    "# readlines() 호출은 한 번에 모든 라인을 읽고, 한 라인으로 된 문자열들의 리스트를 반환한다.\n",
    "fin = open(\"relativity\", \"rt\")\n",
    "lines = fin.readlines()\n",
    "fin.close()\n",
    "print(len(lines), \"lines read\")"
   ]
  },
  {
   "cell_type": "code",
   "execution_count": 16,
   "metadata": {},
   "outputs": [
    {
     "name": "stdout",
     "output_type": "stream",
     "text": [
      "There was a young lady named Bright,\n",
      "        Whose speed was far faster than light;\n",
      "        She started one day\n",
      "        In a relative way\n",
      "        And returned on the previous night."
     ]
    }
   ],
   "source": [
    "for line in lines:\n",
    "    print(line, end = '')"
   ]
  },
  {
   "cell_type": "code",
   "execution_count": 17,
   "metadata": {},
   "outputs": [
    {
     "data": {
      "text/plain": [
       "256"
      ]
     },
     "execution_count": 17,
     "metadata": {},
     "output_type": "execute_result"
    }
   ],
   "source": [
    "# 3. 이진 파일 쓰기 : write()\n",
    "# 모드에 'b'를 포함시키면 파일을 이진 모드로 연다. 이 경우 바이트를 읽고 쓸 수 있다.\n",
    "# 0 ~ 255까지의 256바이트 값을 생성한다.\n",
    "bdata = bytes(range(0, 256))\n",
    "len(bdata)"
   ]
  },
  {
   "cell_type": "code",
   "execution_count": 18,
   "metadata": {},
   "outputs": [],
   "source": [
    "# 이진 모드로 파일을 열고 한 번에 데이터를 쓰기\n",
    "fout = open(\"bfile\", \"wb\")\n",
    "fout.write(bdata)\n",
    "fout.close()"
   ]
  },
  {
   "cell_type": "code",
   "execution_count": 19,
   "metadata": {},
   "outputs": [],
   "source": [
    "# write() 함수는 파일에 쓴 바이트 수를 반환한다.\n",
    "# 텍스트 파일처럼 특정 단위(chunk)로 이진 데이터를 쓸 수 있다.\n",
    "fout = open('bfile', 'wb')\n",
    "size = len(bdata)\n",
    "offset = 0\n",
    "chunk = 100\n",
    "while True:\n",
    "    if offset > size:\n",
    "        break\n",
    "    fout.write(bdata[offset : offset + chunk])\n",
    "    offset += chunk\n",
    "    \n",
    "fout.close()"
   ]
  },
  {
   "cell_type": "code",
   "execution_count": 20,
   "metadata": {},
   "outputs": [],
   "source": [
    "# 4. 이진 파일 읽기 : read()\n",
    "fin = open('bfile', 'rb')\n",
    "bdata = fin.read()\n",
    "len(bdata)\n",
    "fin.close()"
   ]
  },
  {
   "cell_type": "code",
   "execution_count": 21,
   "metadata": {},
   "outputs": [],
   "source": [
    "# 5. 자동으로 파일 닫기 : with()\n",
    "# 파이썬에는 파일을 여는 것과 같은 일을 수행하는 컨텍스트 매니저(context manager)가 있다.\n",
    "with open(\"relativity2\", \"wt\") as fout:\n",
    "    fout.write(poem)"
   ]
  },
  {
   "cell_type": "code",
   "execution_count": 22,
   "metadata": {},
   "outputs": [
    {
     "data": {
      "text/plain": [
       "datetime.datetime(2019, 4, 5, 10, 20, 17, 10977)"
      ]
     },
     "execution_count": 22,
     "metadata": {},
     "output_type": "execute_result"
    }
   ],
   "source": [
    "# 6. 자료구조를 파일로 저장하는 것을 직렬화(serialization)라고 한다.\n",
    "# JSON과 같은 형식은 파이썬 프로그램에서 모든 데이터 타입을 직렬화하는 컨버터가 필요하다.\n",
    "# 파이썬은 바이너리 형식으로 된 객체를 저장하고 복원할 수 있는 pickle 모듈을 제공한다.\n",
    "import pickle\n",
    "import datetime\n",
    "now1 = datetime.datetime.utcnow()\n",
    "pickled = pickle.dumps(now1)\n",
    "now2 = pickle.loads(pickled)\n",
    "now1"
   ]
  },
  {
   "cell_type": "code",
   "execution_count": 23,
   "metadata": {},
   "outputs": [
    {
     "data": {
      "text/plain": [
       "datetime.datetime(2019, 4, 5, 10, 20, 17, 10977)"
      ]
     },
     "execution_count": 23,
     "metadata": {},
     "output_type": "execute_result"
    }
   ],
   "source": [
    "now2"
   ]
  },
  {
   "cell_type": "code",
   "execution_count": 24,
   "metadata": {},
   "outputs": [
    {
     "data": {
      "text/plain": [
       "<__main__.Tiny at 0x10c26ab38>"
      ]
     },
     "execution_count": 24,
     "metadata": {},
     "output_type": "execute_result"
    }
   ],
   "source": [
    "# pickle은 우리가 만든 클래스와 객체에서도 작동한다. \n",
    "# 객체를 문자열로 취급할 때 \"tiny\" 문자열을 반환하는 Tiny 클래스를 정의\n",
    "import pickle\n",
    "class Tiny():\n",
    "    def __str__(self):\n",
    "        return 'tiny'\n",
    "obj1 = Tiny()\n",
    "obj1"
   ]
  },
  {
   "cell_type": "code",
   "execution_count": 25,
   "metadata": {},
   "outputs": [
    {
     "data": {
      "text/plain": [
       "'tiny'"
      ]
     },
     "execution_count": 25,
     "metadata": {},
     "output_type": "execute_result"
    }
   ],
   "source": [
    "str(obj1)"
   ]
  },
  {
   "cell_type": "code",
   "execution_count": 26,
   "metadata": {},
   "outputs": [
    {
     "data": {
      "text/plain": [
       "b'\\x80\\x03c__main__\\nTiny\\nq\\x00)\\x81q\\x01.'"
      ]
     },
     "execution_count": 26,
     "metadata": {},
     "output_type": "execute_result"
    }
   ],
   "source": [
    "# pickled는 직렬화된 obj1 객체의 이진 문자열이다.\n",
    "pickled = pickle.dumps(obj1)\n",
    "pickled"
   ]
  },
  {
   "cell_type": "code",
   "execution_count": 28,
   "metadata": {},
   "outputs": [
    {
     "data": {
      "text/plain": [
       "<__main__.Tiny at 0x10c26a588>"
      ]
     },
     "execution_count": 28,
     "metadata": {},
     "output_type": "execute_result"
    }
   ],
   "source": [
    "# obj1의 복사본을 만들기 위해 pickled를 다시 역직렬화하여 obj2 객체로 변환했다.\n",
    "# 결국, dump()로 직렬화(pickle)하고, load()로 역직렬화(unpickle) 한다.\n",
    "obj2 = pickle.loads(pickled)\n",
    "obj2"
   ]
  },
  {
   "cell_type": "code",
   "execution_count": 29,
   "metadata": {},
   "outputs": [
    {
     "data": {
      "text/plain": [
       "'tiny'"
      ]
     },
     "execution_count": 29,
     "metadata": {},
     "output_type": "execute_result"
    }
   ],
   "source": [
    "str(obj2)"
   ]
  }
 ],
 "metadata": {
  "kernelspec": {
   "display_name": "PyTorch",
   "language": "python",
   "name": "pytorch"
  },
  "language_info": {
   "codemirror_mode": {
    "name": "ipython",
    "version": 3
   },
   "file_extension": ".py",
   "mimetype": "text/x-python",
   "name": "python",
   "nbconvert_exporter": "python",
   "pygments_lexer": "ipython3",
   "version": "3.7.2"
  }
 },
 "nbformat": 4,
 "nbformat_minor": 2
}
