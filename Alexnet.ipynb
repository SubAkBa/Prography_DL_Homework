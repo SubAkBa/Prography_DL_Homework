{
 "cells": [
  {
   "cell_type": "code",
   "execution_count": 20,
   "metadata": {
    "collapsed": false
   },
   "outputs": [],
   "source": [
    "# Conv2d(input_channels, output_channels, kernel_size, \n",
    "#        stride = 1, padding = 0, dilation = 1, groups = 1, bias = True)\n",
    "# input_channels : input image의 채널 수. rgb이미지라면 3이 되겠다.\n",
    "# output_channels : conv에 의해 생성된 channel의 수\n",
    "# kernel_size : conv_kernel의 크기 (filter라고도 한다.)\n",
    "\n",
    "# MaxPool2d(kernel_size, stride = None, padding = 0, dilation = 1)\n",
    "\n",
    "import torch\n",
    "import torch.nn as nn\n",
    "\n",
    "class AlexNet(nn.Module):\n",
    "    def __init__(self):\n",
    "        super(AlexNet, self).__init__()\n",
    "        self._build_net()\n",
    "        \n",
    "    def _build_net(self):\n",
    "        self.feature = nn.Sequential(\n",
    "            nn.Conv2d(3, 96, kernel_size = 11, stride = 4, padding = 2),\n",
    "            nn.ReLU(),\n",
    "            nn.MaxPool2d(kernel_size = 3, stride = 2),\n",
    "            \n",
    "            nn.Conv2d(96, 256, kernel_size = 5, padding = 1),\n",
    "            nn.ReLU(),\n",
    "            nn.MaxPool2d(kernel_size = 3, stride = 2),\n",
    "            \n",
    "            nn.Conv2d(256, 384, kernel_size = 3, padding = 1),\n",
    "            nn.ReLU(),\n",
    "            \n",
    "            nn.Conv2d(384, 384, kernel_size = 3, padding = 1),\n",
    "            nn.ReLU(),\n",
    "            \n",
    "            nn.Conv2d(384, 256, kernel_size = 3, padding = 1),\n",
    "            nn.ReLU(),\n",
    "            nn.MaxPool2d(kernel_size = 3, stride = 2)\n",
    "        )\n",
    "        \n",
    "        self.avgpool = nn.AdaptiveAvgPool2d((13, 13))\n",
    "        \n",
    "        self.classifier = nn.Sequential(\n",
    "            nn.Dropout(0.5),\n",
    "            nn.Linear(256 * 13 * 13, 4096),\n",
    "            nn.ReLU(),\n",
    "            \n",
    "            nn.Dropout(0.5),\n",
    "            nn.Linear(4096, 4096),\n",
    "            nn.ReLU(),\n",
    "\n",
    "            nn.Linear(4096, 1000),\n",
    "        )\n",
    "\n",
    "    def forward(self, x):\n",
    "        out = self.feature(x)\n",
    "        out = self.avgpool(x)\n",
    "        out = x.view(x.size(0), 256 * 13 * 13)\n",
    "        out = self.classifier(x)\n",
    "        \n",
    "        return x"
   ]
  }
 ],
 "metadata": {
  "anaconda-cloud": {},
  "kernelspec": {
   "display_name": "PyTorch",
   "language": "python",
   "name": "pytorch"
  },
  "language_info": {
   "codemirror_mode": {
    "name": "ipython",
    "version": 3
   },
   "file_extension": ".py",
   "mimetype": "text/x-python",
   "name": "python",
   "nbconvert_exporter": "python",
   "pygments_lexer": "ipython3",
   "version": "3.6.8"
  }
 },
 "nbformat": 4,
 "nbformat_minor": 1
}
