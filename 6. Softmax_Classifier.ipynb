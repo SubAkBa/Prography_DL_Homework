{
 "cells": [
  {
   "cell_type": "code",
   "execution_count": 8,
   "metadata": {
    "collapsed": false
   },
   "outputs": [
    {
     "name": "stderr",
     "output_type": "stream",
     "text": [
      "C:\\Users\\sonwo\\Anaconda3\\envs\\Pytorch\\lib\\site-packages\\torch\\nn\\modules\\container.py:92: UserWarning: Implicit dimension choice for softmax has been deprecated. Change the call to include dim=X as an argument.\n",
      "  input = module(input)\n"
     ]
    },
    {
     "name": "stdout",
     "output_type": "stream",
     "text": [
      "step : 0 \tcost : 2.3687892\n",
      "step : 200 \tcost : 0.54633194\n",
      "step : 400 \tcost : 0.45158795\n",
      "step : 600 \tcost : 0.37642643\n",
      "step : 800 \tcost : 0.3045038\n",
      "step : 1000 \tcost : 0.24127787\n",
      "step : 1200 \tcost : 0.2179132\n",
      "step : 1400 \tcost : 0.19881801\n",
      "step : 1600 \tcost : 0.18269488\n",
      "step : 1800 \tcost : 0.16890591\n",
      "step : 2000 \tcost : 0.15698561\n",
      "------------------------------\n",
      "[[7.6587372e-03 9.9233150e-01 9.6463118e-06]] [1]\n",
      "------------------------------\n",
      "[[0.82809925 0.15501602 0.01688479]] [0]\n",
      "------------------------------\n",
      "[[1.3566345e-08 3.5339090e-04 9.9964654e-01]] [2]\n",
      "------------------------------\n",
      "[[7.6587442e-03 9.9233150e-01 9.6463118e-06]\n",
      " [8.2809913e-01 1.5501603e-01 1.6884783e-02]\n",
      " [1.3566319e-08 3.5339055e-04 9.9964654e-01]] [1 0 2]\n"
     ]
    }
   ],
   "source": [
    "import torch\n",
    "from torch.autograd import Variable\n",
    "\n",
    "torch.manual_seed(777)\n",
    "\n",
    "x_data = [[1, 2, 1, 1], [2, 1, 3, 2], [3, 1, 3, 4], [4, 1, 5, 5],\n",
    "          [1, 7, 5, 5], [1, 2, 5, 6], [1, 6, 6, 6], [1, 7, 7, 7]]\n",
    "y_data = [[0, 0, 1], [0, 0, 1], [0, 0, 1], [0, 1, 0],\n",
    "          [0, 1, 0], [0, 1, 0], [1, 0, 0], [1, 0, 0]]\n",
    "\n",
    "X = Variable(torch.Tensor(x_data))\n",
    "Y = Variable(torch.Tensor(y_data))\n",
    "nb_classes = 3\n",
    "\n",
    "# softmax = exp(logits) / reduce_sum(exp(logits), dim)\n",
    "softmax = torch.nn.Softmax()\n",
    "linear = torch.nn.Linear(4, nb_classes, bias = True)\n",
    "model = torch.nn.Sequential(linear, softmax)\n",
    "\n",
    "optimizer = torch.optim.SGD(model.parameters(), lr = 0.1)\n",
    "\n",
    "for step in range(2001):\n",
    "    optimizer.zero_grad()\n",
    "    hypothesis = model(X)\n",
    "    \n",
    "    # cost / loss = Cross - Entropy\n",
    "    cost = -Y * torch.log(hypothesis)\n",
    "    cost = torch.sum(cost, 1).mean()\n",
    "    cost.backward()\n",
    "    optimizer.step()\n",
    "    \n",
    "    if step % 200 == 0:\n",
    "        print(\"step :\", step, \"\\tcost :\", cost.data.numpy())\n",
    "        \n",
    "# Testing & One-hot encoding\n",
    "print(\"------------------------------\")\n",
    "a = model(Variable(torch.Tensor([[1, 11, 7, 9]])))\n",
    "print(a.data.numpy(), torch.max(a, 1)[1].data.numpy())\n",
    "\n",
    "print(\"------------------------------\")\n",
    "b = model(Variable(torch.Tensor([[1, 3, 4, 3]])))\n",
    "print(b.data.numpy(), torch.max(b, 1)[1].data.numpy())\n",
    "\n",
    "print(\"------------------------------\")\n",
    "c = model(Variable(torch.Tensor([[1, 1, 0, 1]])))\n",
    "print(c.data.numpy(), torch.max(c, 1)[1].data.numpy())\n",
    "\n",
    "print(\"------------------------------\")\n",
    "all = model(Variable(torch.Tensor([[1, 11, 7, 9], [1, 3, 4, 3], [1, 1, 0, 1]])))\n",
    "print(all.data.numpy(), torch.max(all, 1)[1].data.numpy())"
   ]
  }
 ],
 "metadata": {
  "anaconda-cloud": {},
  "kernelspec": {
   "display_name": "PyTorch",
   "language": "python",
   "name": "pytorch"
  },
  "language_info": {
   "codemirror_mode": {
    "name": "ipython",
    "version": 3
   },
   "file_extension": ".py",
   "mimetype": "text/x-python",
   "name": "python",
   "nbconvert_exporter": "python",
   "pygments_lexer": "ipython3",
   "version": "3.6.8"
  }
 },
 "nbformat": 4,
 "nbformat_minor": 1
}
